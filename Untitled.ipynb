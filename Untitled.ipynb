{
 "cells": [
  {
   "cell_type": "code",
   "execution_count": 10,
   "id": "8be3ce08",
   "metadata": {},
   "outputs": [],
   "source": [
    "import requests\n",
    "from bs4 import BeautifulSoup"
   ]
  },
  {
   "cell_type": "code",
   "execution_count": 2,
   "id": "60bddfc7",
   "metadata": {},
   "outputs": [],
   "source": [
    "url = 'https://download.qt.io/official_releases/qt-installer-framework/'"
   ]
  },
  {
   "cell_type": "code",
   "execution_count": null,
   "id": "c1db2fd4",
   "metadata": {},
   "outputs": [],
   "source": []
  },
  {
   "cell_type": "code",
   "execution_count": 21,
   "id": "23a7dd10",
   "metadata": {},
   "outputs": [
    {
     "data": {
      "text/plain": [
       "<Response [200]>"
      ]
     },
     "execution_count": 21,
     "metadata": {},
     "output_type": "execute_result"
    }
   ],
   "source": [
    "r = requests.get(url) #, headers={\"content-type\":\"application/json\"})\n",
    "r"
   ]
  },
  {
   "cell_type": "code",
   "execution_count": 22,
   "id": "51ee10f7",
   "metadata": {},
   "outputs": [
    {
     "data": {
      "text/plain": [
       "'<!DOCTYPE html PUBLIC \"-//W3C//DTD XHTML 1.0 Transitional//EN\"\\n\"http://www.w3.org/TR/xhtml1/DTD/xhtml1-transitional.dtd\">\\n<html xmlns=\"http://www.w3.org/1999/xhtml\">\\n <head>\\n  <title>Index of /official_releases/qt-installer-framework</title>\\n<meta name=\"viewport\" content=\"width=device-width, initial-scale=1\"><link rel=\"stylesheet\" type=\"text/css\" href=\"/static/normalize.css\"><link rel=\"stylesheet\" type=\"text/css\" href=\"/static/style.css\"><link rel=\"stylesheet\" href=\"/static/bootstrap.css\" type=\"text/css\"><link rel=\"stylesheet\" href=\"/static/bootstrap-download-index.css\" type=\"text/css\"><script type=\"text/javascript\" src=\"/static/jquery.js\"></script> <script type=\"text/javascript\" src=\"/static/javascript-index.js\"></script> <script type=\"text/javascript\" src=\"/static/javascript- mirrorlist.js\"></script> </head>\\n <body>\\n<h1>Index of /official_releases/qt-installer-framework</h1>\\n<table><tr><th>&nbsp;</th><th><a href=\"?C=N;O=A\">Name</a></th><th><a href=\"?C=M;O=A\">Last modified</a></th><th><a href=\"?C=S;O=A\">Size</a></th><th>Metadata</th></tr><tr><th colspan=\"5\"><hr /></th></tr>\\n<tr><td valign=\"top\">&nbsp;</td><td><a href=\"/official_releases/\">Parent Directory</a></td><td>&nbsp;</td><td align=\"right\">  - </td><td>&nbsp;</td></tr>\\n<tr><td valign=\"top\">&nbsp;</td><td><a href=\"4.1.1/\">4.1.1/</a></td><td align=\"right\">31-May-2021 11:15  </td><td align=\"right\">  - </td><td>&nbsp;</td></tr>\\n<tr><td valign=\"top\">&nbsp;</td><td><a href=\"4.1.0/\">4.1.0/</a></td><td align=\"right\">13-Apr-2021 15:10  </td><td align=\"right\">  - </td><td>&nbsp;</td></tr>\\n<tr><td valign=\"top\">&nbsp;</td><td><a href=\"4.0.1/\">4.0.1/</a></td><td align=\"right\">09-Dec-2020 11:51  </td><td align=\"right\">  - </td><td>&nbsp;</td></tr>\\n<tr><td valign=\"top\">&nbsp;</td><td><a href=\"4.0.0/\">4.0.0/</a></td><td align=\"right\">04-Nov-2020 08:44  </td><td align=\"right\">  - </td><td>&nbsp;</td></tr>\\n<tr><td valign=\"top\">&nbsp;</td><td><a href=\"3.2.2/\">3.2.2/</a></td><td align=\"right\">12-Mar-2020 12:40  </td><td align=\"right\">  - </td><td>&nbsp;</td></tr>\\n<tr><td valign=\"top\">&nbsp;</td><td><a href=\"3.2.0/\">3.2.0/</a></td><td align=\"right\">16-Dec-2019 14:58  </td><td align=\"right\">  - </td><td>&nbsp;</td></tr>\\n<tr><td valign=\"top\">&nbsp;</td><td><a href=\"3.1.1/\">3.1.1/</a></td><td align=\"right\">16-May-2019 10:24  </td><td align=\"right\">  - </td><td>&nbsp;</td></tr>\\n<tr><td valign=\"top\">&nbsp;</td><td><a href=\"3.1.0/\">3.1.0/</a></td><td align=\"right\">12-Apr-2019 12:09  </td><td align=\"right\">  - </td><td>&nbsp;</td></tr>\\n<tr><td valign=\"top\">&nbsp;</td><td><a href=\"3.0.6/\">3.0.6/</a></td><td align=\"right\">14-Nov-2018 14:46  </td><td align=\"right\">  - </td><td>&nbsp;</td></tr>\\n<tr><td valign=\"top\">&nbsp;</td><td><a href=\"3.0.4/\">3.0.4/</a></td><td align=\"right\">27-Mar-2018 12:54  </td><td align=\"right\">  - </td><td>&nbsp;</td></tr>\\n<tr><td valign=\"top\">&nbsp;</td><td><a href=\"3.0.2/\">3.0.2/</a></td><td align=\"right\">24-Nov-2017 12:59  </td><td align=\"right\">  - </td><td>&nbsp;</td></tr>\\n<tr><td valign=\"top\">&nbsp;</td><td><a href=\"3.0.1/\">3.0.1/</a></td><td align=\"right\">19-Sep-2017 10:30  </td><td align=\"right\">  - </td><td>&nbsp;</td></tr>\\n<tr><td valign=\"top\">&nbsp;</td><td><a href=\"2.0.5/\">2.0.5/</a></td><td align=\"right\">01-Mar-2017 15:42  </td><td align=\"right\">  - </td><td>&nbsp;</td></tr>\\n<tr><td valign=\"top\">&nbsp;</td><td><a href=\"2.0.5-1/\">2.0.5-1/</a></td><td align=\"right\">22-Mar-2017 13:41  </td><td align=\"right\">  - </td><td>&nbsp;</td></tr>\\n<tr><td valign=\"top\">&nbsp;</td><td><a href=\"2.0.3/\">2.0.3/</a></td><td align=\"right\">04-May-2016 12:15  </td><td align=\"right\">  - </td><td>&nbsp;</td></tr>\\n<tr><td valign=\"top\">&nbsp;</td><td><a href=\"2.0.1/\">2.0.1/</a></td><td align=\"right\">02-Jun-2015 10:04  </td><td align=\"right\">  - </td><td>&nbsp;</td></tr>\\n<tr><td valign=\"top\">&nbsp;</td><td><a href=\"2.0.0/\">2.0.0/</a></td><td align=\"right\">07-Apr-2015 10:57  </td><td align=\"right\">  - </td><td>&nbsp;</td></tr>\\n<tr><td valign=\"top\">&nbsp;</td><td><a href=\"1.5.0/\">1.5.0/</a></td><td align=\"right\">29-Jan-2014 13:49  </td><td align=\"right\">  - </td><td>&nbsp;</td></tr>\\n<tr><td valign=\"top\">&nbsp;</td><td><a href=\"1.4.0/\">1.4.0/</a></td><td align=\"right\">29-Jan-2014 13:49  </td><td align=\"right\">  - </td><td>&nbsp;</td></tr>\\n<tr><td valign=\"top\">&nbsp;</td><td><a href=\"1.3.0/\">1.3.0/</a></td><td align=\"right\">28-Mar-2013 13:44  </td><td align=\"right\">  - </td><td>&nbsp;</td></tr>\\n<tr><th colspan=\"5\"><hr /></th></tr>\\n</table>\\n<br/><address><a href=\"http://mirrorbrain.org/\">MirrorBrain</a> powered by <a href=\"http://httpd.apache.org/\">Apache</a></address>\\n</body></html>\\n'"
      ]
     },
     "execution_count": 22,
     "metadata": {},
     "output_type": "execute_result"
    }
   ],
   "source": [
    "r.text"
   ]
  },
  {
   "cell_type": "code",
   "execution_count": null,
   "id": "89e08035",
   "metadata": {},
   "outputs": [],
   "source": []
  },
  {
   "cell_type": "code",
   "execution_count": 23,
   "id": "a63a2963",
   "metadata": {},
   "outputs": [],
   "source": [
    "soup = BeautifulSoup(r.text, 'html.parser')"
   ]
  },
  {
   "cell_type": "code",
   "execution_count": 24,
   "id": "c3949264",
   "metadata": {},
   "outputs": [],
   "source": [
    "soup.find_all?"
   ]
  },
  {
   "cell_type": "code",
   "execution_count": null,
   "id": "cd644368",
   "metadata": {},
   "outputs": [],
   "source": []
  }
 ],
 "metadata": {
  "kernelspec": {
   "display_name": "Python 3",
   "language": "python",
   "name": "python3"
  },
  "language_info": {
   "codemirror_mode": {
    "name": "ipython",
    "version": 3
   },
   "file_extension": ".py",
   "mimetype": "text/x-python",
   "name": "python",
   "nbconvert_exporter": "python",
   "pygments_lexer": "ipython3",
   "version": "3.9.1"
  },
  "toc": {
   "base_numbering": 1,
   "nav_menu": {},
   "number_sections": true,
   "sideBar": true,
   "skip_h1_title": false,
   "title_cell": "Table of Contents",
   "title_sidebar": "Contents",
   "toc_cell": false,
   "toc_position": {},
   "toc_section_display": true,
   "toc_window_display": false
  }
 },
 "nbformat": 4,
 "nbformat_minor": 5
}
